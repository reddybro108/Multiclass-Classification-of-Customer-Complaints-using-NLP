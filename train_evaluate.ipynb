{
 "cells": [
  {
   "cell_type": "code",
   "execution_count": 2,
   "id": "31855e5e",
   "metadata": {},
   "outputs": [
    {
     "name": "stdout",
     "output_type": "stream",
     "text": [
      "Requirement already satisfied: transformers in d:\\mccnlp\\mccenv\\lib\\site-packages (4.56.2)\n",
      "Requirement already satisfied: filelock in d:\\mccnlp\\mccenv\\lib\\site-packages (from transformers) (3.19.1)\n",
      "Requirement already satisfied: huggingface-hub<1.0,>=0.34.0 in d:\\mccnlp\\mccenv\\lib\\site-packages (from transformers) (0.35.1)\n",
      "Requirement already satisfied: numpy>=1.17 in d:\\mccnlp\\mccenv\\lib\\site-packages (from transformers) (2.3.3)\n",
      "Requirement already satisfied: packaging>=20.0 in d:\\mccnlp\\mccenv\\lib\\site-packages (from transformers) (25.0)\n",
      "Requirement already satisfied: pyyaml>=5.1 in d:\\mccnlp\\mccenv\\lib\\site-packages (from transformers) (6.0.2)\n",
      "Requirement already satisfied: regex!=2019.12.17 in d:\\mccnlp\\mccenv\\lib\\site-packages (from transformers) (2025.9.18)\n",
      "Requirement already satisfied: requests in d:\\mccnlp\\mccenv\\lib\\site-packages (from transformers) (2.32.5)\n",
      "Requirement already satisfied: tokenizers<=0.23.0,>=0.22.0 in d:\\mccnlp\\mccenv\\lib\\site-packages (from transformers) (0.22.1)\n",
      "Requirement already satisfied: safetensors>=0.4.3 in d:\\mccnlp\\mccenv\\lib\\site-packages (from transformers) (0.6.2)\n",
      "Requirement already satisfied: tqdm>=4.27 in d:\\mccnlp\\mccenv\\lib\\site-packages (from transformers) (4.67.1)\n",
      "Requirement already satisfied: fsspec>=2023.5.0 in d:\\mccnlp\\mccenv\\lib\\site-packages (from huggingface-hub<1.0,>=0.34.0->transformers) (2025.9.0)\n",
      "Requirement already satisfied: typing-extensions>=3.7.4.3 in d:\\mccnlp\\mccenv\\lib\\site-packages (from huggingface-hub<1.0,>=0.34.0->transformers) (4.15.0)\n",
      "Requirement already satisfied: colorama in d:\\mccnlp\\mccenv\\lib\\site-packages (from tqdm>=4.27->transformers) (0.4.6)\n",
      "Requirement already satisfied: charset_normalizer<4,>=2 in d:\\mccnlp\\mccenv\\lib\\site-packages (from requests->transformers) (3.4.3)\n",
      "Requirement already satisfied: idna<4,>=2.5 in d:\\mccnlp\\mccenv\\lib\\site-packages (from requests->transformers) (3.10)\n",
      "Requirement already satisfied: urllib3<3,>=1.21.1 in d:\\mccnlp\\mccenv\\lib\\site-packages (from requests->transformers) (2.5.0)\n",
      "Requirement already satisfied: certifi>=2017.4.17 in d:\\mccnlp\\mccenv\\lib\\site-packages (from requests->transformers) (2025.8.3)\n",
      "Note: you may need to restart the kernel to use updated packages.\n"
     ]
    },
    {
     "name": "stderr",
     "output_type": "stream",
     "text": [
      "d:\\MCCNLP\\mccenv\\Lib\\site-packages\\tqdm\\auto.py:21: TqdmWarning: IProgress not found. Please update jupyter and ipywidgets. See https://ipywidgets.readthedocs.io/en/stable/user_install.html\n",
      "  from .autonotebook import tqdm as notebook_tqdm\n"
     ]
    }
   ],
   "source": [
    "%pip install transformers\n",
    "\n",
    "# Cell 1: Imports & Setup\n",
    "import pandas as pd\n",
    "import numpy as np\n",
    "from sklearn.feature_extraction.text import TfidfVectorizer\n",
    "from sklearn.linear_model import LogisticRegression\n",
    "from sklearn.metrics import classification_report, confusion_matrix, ConfusionMatrixDisplay\n",
    "from imblearn.over_sampling import RandomOverSampler\n",
    "from transformers import DistilBertTokenizer, DistilBertForSequenceClassification, Trainer, TrainingArguments\n",
    "import torch\n",
    "import matplotlib.pyplot as plt\n",
    "import seaborn as sns\n",
    "from collections import Counter"
   ]
  },
  {
   "cell_type": "code",
   "execution_count": 3,
   "id": "f86747b3",
   "metadata": {},
   "outputs": [
    {
     "data": {
      "text/html": [
       "<div>\n",
       "<style scoped>\n",
       "    .dataframe tbody tr th:only-of-type {\n",
       "        vertical-align: middle;\n",
       "    }\n",
       "\n",
       "    .dataframe tbody tr th {\n",
       "        vertical-align: top;\n",
       "    }\n",
       "\n",
       "    .dataframe thead th {\n",
       "        text-align: right;\n",
       "    }\n",
       "</style>\n",
       "<table border=\"1\" class=\"dataframe\">\n",
       "  <thead>\n",
       "    <tr style=\"text-align: right;\">\n",
       "      <th></th>\n",
       "      <th>Unnamed: 0</th>\n",
       "      <th>Date received</th>\n",
       "      <th>Product</th>\n",
       "      <th>Sub-product</th>\n",
       "      <th>Issue</th>\n",
       "      <th>Sub-issue</th>\n",
       "      <th>Consumer complaint narrative</th>\n",
       "      <th>Company public response</th>\n",
       "      <th>Company</th>\n",
       "      <th>State</th>\n",
       "      <th>ZIP code</th>\n",
       "      <th>Tags</th>\n",
       "      <th>Consumer consent provided?</th>\n",
       "      <th>Submitted via</th>\n",
       "      <th>Date sent to company</th>\n",
       "      <th>Company response to consumer</th>\n",
       "      <th>Timely response?</th>\n",
       "      <th>Consumer disputed?</th>\n",
       "      <th>Complaint ID</th>\n",
       "    </tr>\n",
       "  </thead>\n",
       "  <tbody>\n",
       "    <tr>\n",
       "      <th>0</th>\n",
       "      <td>0</td>\n",
       "      <td>2017-06-08</td>\n",
       "      <td>Credit reporting, credit repair services, or o...</td>\n",
       "      <td>Credit reporting</td>\n",
       "      <td>Incorrect information on your report</td>\n",
       "      <td>Account information incorrect</td>\n",
       "      <td>NaN</td>\n",
       "      <td>NaN</td>\n",
       "      <td>EQUIFAX, INC.</td>\n",
       "      <td>MD</td>\n",
       "      <td>21108</td>\n",
       "      <td>NaN</td>\n",
       "      <td>NaN</td>\n",
       "      <td>Postal mail</td>\n",
       "      <td>2017-06-09</td>\n",
       "      <td>Closed with explanation</td>\n",
       "      <td>Yes</td>\n",
       "      <td>NaN</td>\n",
       "      <td>2546268</td>\n",
       "    </tr>\n",
       "    <tr>\n",
       "      <th>1</th>\n",
       "      <td>1</td>\n",
       "      <td>2015-05-13</td>\n",
       "      <td>Bank account or service</td>\n",
       "      <td>Checking account</td>\n",
       "      <td>Account opening, closing, or management</td>\n",
       "      <td>NaN</td>\n",
       "      <td>NaN</td>\n",
       "      <td>NaN</td>\n",
       "      <td>TD BANK US HOLDING COMPANY</td>\n",
       "      <td>NJ</td>\n",
       "      <td>08759</td>\n",
       "      <td>Older American</td>\n",
       "      <td>NaN</td>\n",
       "      <td>Phone</td>\n",
       "      <td>2015-05-14</td>\n",
       "      <td>Closed with monetary relief</td>\n",
       "      <td>Yes</td>\n",
       "      <td>No</td>\n",
       "      <td>1373196</td>\n",
       "    </tr>\n",
       "    <tr>\n",
       "      <th>2</th>\n",
       "      <td>2</td>\n",
       "      <td>2016-03-01</td>\n",
       "      <td>Credit card</td>\n",
       "      <td>NaN</td>\n",
       "      <td>Billing disputes</td>\n",
       "      <td>NaN</td>\n",
       "      <td>NaN</td>\n",
       "      <td>NaN</td>\n",
       "      <td>CAPITAL ONE FINANCIAL CORPORATION</td>\n",
       "      <td>LA</td>\n",
       "      <td>710XX</td>\n",
       "      <td>Older American, Servicemember</td>\n",
       "      <td>NaN</td>\n",
       "      <td>Phone</td>\n",
       "      <td>2016-03-01</td>\n",
       "      <td>Closed with explanation</td>\n",
       "      <td>Yes</td>\n",
       "      <td>No</td>\n",
       "      <td>1810934</td>\n",
       "    </tr>\n",
       "    <tr>\n",
       "      <th>3</th>\n",
       "      <td>3</td>\n",
       "      <td>2021-03-01</td>\n",
       "      <td>Credit reporting, credit repair services, or o...</td>\n",
       "      <td>Credit reporting</td>\n",
       "      <td>Incorrect information on your report</td>\n",
       "      <td>Information belongs to someone else</td>\n",
       "      <td>The following accounts are not mines, and is e...</td>\n",
       "      <td>NaN</td>\n",
       "      <td>EQUIFAX, INC.</td>\n",
       "      <td>MO</td>\n",
       "      <td>NaN</td>\n",
       "      <td>NaN</td>\n",
       "      <td>Consent provided</td>\n",
       "      <td>Web</td>\n",
       "      <td>2021-03-01</td>\n",
       "      <td>Closed with explanation</td>\n",
       "      <td>Yes</td>\n",
       "      <td>NaN</td>\n",
       "      <td>4173045</td>\n",
       "    </tr>\n",
       "    <tr>\n",
       "      <th>4</th>\n",
       "      <td>4</td>\n",
       "      <td>2019-08-01</td>\n",
       "      <td>Credit reporting, credit repair services, or o...</td>\n",
       "      <td>Credit reporting</td>\n",
       "      <td>Problem with a credit reporting company's inve...</td>\n",
       "      <td>Their investigation did not fix an error on yo...</td>\n",
       "      <td>I have submitted several disputes requesting V...</td>\n",
       "      <td>Company has responded to the consumer and the ...</td>\n",
       "      <td>Experian Information Solutions Inc.</td>\n",
       "      <td>TX</td>\n",
       "      <td>NaN</td>\n",
       "      <td>NaN</td>\n",
       "      <td>Consent provided</td>\n",
       "      <td>Web</td>\n",
       "      <td>2019-08-01</td>\n",
       "      <td>Closed with explanation</td>\n",
       "      <td>Yes</td>\n",
       "      <td>NaN</td>\n",
       "      <td>3325520</td>\n",
       "    </tr>\n",
       "  </tbody>\n",
       "</table>\n",
       "</div>"
      ],
      "text/plain": [
       "   Unnamed: 0 Date received  \\\n",
       "0           0    2017-06-08   \n",
       "1           1    2015-05-13   \n",
       "2           2    2016-03-01   \n",
       "3           3    2021-03-01   \n",
       "4           4    2019-08-01   \n",
       "\n",
       "                                             Product       Sub-product  \\\n",
       "0  Credit reporting, credit repair services, or o...  Credit reporting   \n",
       "1                            Bank account or service  Checking account   \n",
       "2                                        Credit card               NaN   \n",
       "3  Credit reporting, credit repair services, or o...  Credit reporting   \n",
       "4  Credit reporting, credit repair services, or o...  Credit reporting   \n",
       "\n",
       "                                               Issue  \\\n",
       "0               Incorrect information on your report   \n",
       "1            Account opening, closing, or management   \n",
       "2                                   Billing disputes   \n",
       "3               Incorrect information on your report   \n",
       "4  Problem with a credit reporting company's inve...   \n",
       "\n",
       "                                           Sub-issue  \\\n",
       "0                      Account information incorrect   \n",
       "1                                                NaN   \n",
       "2                                                NaN   \n",
       "3                Information belongs to someone else   \n",
       "4  Their investigation did not fix an error on yo...   \n",
       "\n",
       "                        Consumer complaint narrative  \\\n",
       "0                                                NaN   \n",
       "1                                                NaN   \n",
       "2                                                NaN   \n",
       "3  The following accounts are not mines, and is e...   \n",
       "4  I have submitted several disputes requesting V...   \n",
       "\n",
       "                             Company public response  \\\n",
       "0                                                NaN   \n",
       "1                                                NaN   \n",
       "2                                                NaN   \n",
       "3                                                NaN   \n",
       "4  Company has responded to the consumer and the ...   \n",
       "\n",
       "                               Company State ZIP code  \\\n",
       "0                        EQUIFAX, INC.    MD    21108   \n",
       "1           TD BANK US HOLDING COMPANY    NJ    08759   \n",
       "2    CAPITAL ONE FINANCIAL CORPORATION    LA    710XX   \n",
       "3                        EQUIFAX, INC.    MO      NaN   \n",
       "4  Experian Information Solutions Inc.    TX      NaN   \n",
       "\n",
       "                            Tags Consumer consent provided? Submitted via  \\\n",
       "0                            NaN                        NaN   Postal mail   \n",
       "1                 Older American                        NaN         Phone   \n",
       "2  Older American, Servicemember                        NaN         Phone   \n",
       "3                            NaN           Consent provided           Web   \n",
       "4                            NaN           Consent provided           Web   \n",
       "\n",
       "  Date sent to company Company response to consumer Timely response?  \\\n",
       "0           2017-06-09      Closed with explanation              Yes   \n",
       "1           2015-05-14  Closed with monetary relief              Yes   \n",
       "2           2016-03-01      Closed with explanation              Yes   \n",
       "3           2021-03-01      Closed with explanation              Yes   \n",
       "4           2019-08-01      Closed with explanation              Yes   \n",
       "\n",
       "  Consumer disputed?  Complaint ID  \n",
       "0                NaN       2546268  \n",
       "1                 No       1373196  \n",
       "2                 No       1810934  \n",
       "3                NaN       4173045  \n",
       "4                NaN       3325520  "
      ]
     },
     "execution_count": 3,
     "metadata": {},
     "output_type": "execute_result"
    }
   ],
   "source": [
    "# Cell 2: Load Preprocessed Data (from Step 2)\n",
    "# Re-run preprocessing if needed (copy from eda_preprocessing.ipynb)\n",
    "df = pd.read_csv('data/complaints_10k.csv')\n",
    "df.head()"
   ]
  },
  {
   "cell_type": "code",
   "execution_count": 4,
   "id": "b76553a4",
   "metadata": {},
   "outputs": [
    {
     "data": {
      "text/html": [
       "<div>\n",
       "<style scoped>\n",
       "    .dataframe tbody tr th:only-of-type {\n",
       "        vertical-align: middle;\n",
       "    }\n",
       "\n",
       "    .dataframe tbody tr th {\n",
       "        vertical-align: top;\n",
       "    }\n",
       "\n",
       "    .dataframe thead th {\n",
       "        text-align: right;\n",
       "    }\n",
       "</style>\n",
       "<table border=\"1\" class=\"dataframe\">\n",
       "  <thead>\n",
       "    <tr style=\"text-align: right;\">\n",
       "      <th></th>\n",
       "      <th>Consumer complaint narrative</th>\n",
       "      <th>Issue</th>\n",
       "    </tr>\n",
       "  </thead>\n",
       "  <tbody>\n",
       "    <tr>\n",
       "      <th>3</th>\n",
       "      <td>The following accounts are not mines, and is e...</td>\n",
       "      <td>Incorrect information on your report</td>\n",
       "    </tr>\n",
       "    <tr>\n",
       "      <th>4</th>\n",
       "      <td>I have submitted several disputes requesting V...</td>\n",
       "      <td>Problem with a credit reporting company's inve...</td>\n",
       "    </tr>\n",
       "    <tr>\n",
       "      <th>5</th>\n",
       "      <td>Referecnce CFPB Complaint : XXXX and XXXX This...</td>\n",
       "      <td>Attempts to collect debt not owed</td>\n",
       "    </tr>\n",
       "    <tr>\n",
       "      <th>10</th>\n",
       "      <td>Loancare continues to take my money but not pa...</td>\n",
       "      <td>Loan servicing, payments, escrow account</td>\n",
       "    </tr>\n",
       "    <tr>\n",
       "      <th>11</th>\n",
       "      <td>SageStream , LLC, Consumer Office,XX/XX/XXXX X...</td>\n",
       "      <td>Incorrect information on your report</td>\n",
       "    </tr>\n",
       "  </tbody>\n",
       "</table>\n",
       "</div>"
      ],
      "text/plain": [
       "                         Consumer complaint narrative  \\\n",
       "3   The following accounts are not mines, and is e...   \n",
       "4   I have submitted several disputes requesting V...   \n",
       "5   Referecnce CFPB Complaint : XXXX and XXXX This...   \n",
       "10  Loancare continues to take my money but not pa...   \n",
       "11  SageStream , LLC, Consumer Office,XX/XX/XXXX X...   \n",
       "\n",
       "                                                Issue  \n",
       "3                Incorrect information on your report  \n",
       "4   Problem with a credit reporting company's inve...  \n",
       "5                   Attempts to collect debt not owed  \n",
       "10           Loan servicing, payments, escrow account  \n",
       "11               Incorrect information on your report  "
      ]
     },
     "execution_count": 4,
     "metadata": {},
     "output_type": "execute_result"
    }
   ],
   "source": [
    "df_subset = df[['Consumer complaint narrative', 'Issue']].dropna()\n",
    "df_subset.head()"
   ]
  },
  {
   "cell_type": "code",
   "execution_count": 6,
   "id": "d04e86cc",
   "metadata": {},
   "outputs": [
    {
     "name": "stderr",
     "output_type": "stream",
     "text": [
      "[nltk_data] Downloading package stopwords to\n",
      "[nltk_data]     C:\\Users\\amolc\\AppData\\Roaming\\nltk_data...\n",
      "[nltk_data]   Package stopwords is already up-to-date!\n"
     ]
    }
   ],
   "source": [
    "import nltk\n",
    "nltk.download('stopwords')\n",
    "stop_words = set(nltk.corpus.stopwords.words('english'))"
   ]
  },
  {
   "cell_type": "code",
   "execution_count": 7,
   "id": "81b4cc31",
   "metadata": {},
   "outputs": [],
   "source": [
    "lemmatizer = nltk.stem.WordNetLemmatizer()"
   ]
  },
  {
   "cell_type": "code",
   "execution_count": 8,
   "id": "8393eed7",
   "metadata": {},
   "outputs": [],
   "source": [
    "import re\n",
    "def preprocess_text(text):\n",
    "    text = re.sub(r'[^a-zA-Z\\s]', '', str(text).lower())\n",
    "    tokens = nltk.word_tokenize(text)\n",
    "    tokens = [lemmatizer.lemmatize(token) for token in tokens if token not in stop_words and len(token) > 2]\n",
    "    return ' '.join(tokens)"
   ]
  },
  {
   "cell_type": "code",
   "execution_count": 9,
   "id": "d96b732f",
   "metadata": {},
   "outputs": [],
   "source": [
    "df_subset['processed_narrative'] = df_subset['Consumer complaint narrative'].apply(preprocess_text)"
   ]
  },
  {
   "cell_type": "code",
   "execution_count": 15,
   "id": "5de19e18",
   "metadata": {},
   "outputs": [
    {
     "name": "stdout",
     "output_type": "stream",
     "text": [
      "loancare continues take money pay mortgage xxxx xxxx keep calling wanting money month behind mortgage never missed payment find loancare sold xxxx xxxx release fund\n"
     ]
    }
   ],
   "source": [
    "print(df_subset['processed_narrative'][10])"
   ]
  },
  {
   "cell_type": "code",
   "execution_count": 16,
   "id": "0e0b783c",
   "metadata": {},
   "outputs": [],
   "source": [
    "X = df_subset['processed_narrative']"
   ]
  },
  {
   "cell_type": "code",
   "execution_count": 17,
   "id": "a9c288dc",
   "metadata": {},
   "outputs": [],
   "source": [
    "Y = df_subset['Issue']"
   ]
  },
  {
   "cell_type": "code",
   "execution_count": 20,
   "id": "1415070a",
   "metadata": {},
   "outputs": [
    {
     "name": "stdout",
     "output_type": "stream",
     "text": [
      "Train size: 2788, Test size: 697\n"
     ]
    }
   ],
   "source": [
    "from sklearn.model_selection import train_test_split\n",
    "X_train, X_test, Y_train, Y_test = train_test_split(X, Y, test_size=0.2, random_state=42)\n",
    "print(f\"Train size: {len(X_train)}, Test size: {len(X_test)}\")"
   ]
  },
  {
   "cell_type": "code",
   "execution_count": 21,
   "id": "9b8fed41",
   "metadata": {},
   "outputs": [
    {
     "name": "stdout",
     "output_type": "stream",
     "text": [
      "Resampled train classes: Counter({'Disclosure verification of debt': 632, 'Attempts to collect debt not owed': 632, \"Charged fees or interest you didn't expect\": 632, 'Incorrect information on your report': 632, 'Loan servicing, payments, escrow account': 632, 'Managing an account': 632, 'Took or threatened to take negative or legal action': 632, 'Incorrect information on credit report': 632, 'Closing your account': 632, \"Problem with a credit reporting company's investigation into an existing problem\": 632, 'Dealing with your lender or servicer': 632, 'Struggling to pay mortgage': 632, 'Problem with a purchase shown on your statement': 632, 'Closing on a mortgage': 632, 'Dealing with my lender or servicer': 632, 'Fraud or scam': 632, \"Cont'd attempts collect debt not owed\": 632, 'Problem with a lender or other company charging your account': 632, 'Taking/threatening an illegal action': 632, 'Delinquent account': 632, 'Improper use of your report': 632, 'Problem with fraud alerts or security freezes': 632, 'Closing an account': 632, 'Settlement process and costs': 632, 'Application, originator, mortgage broker': 632, 'False statements or representation': 632, 'Written notification about debt': 632, 'Shopping for a loan or lease': 632, 'Fees or interest': 632, \"Was approved for a loan, but didn't receive money\": 632, 'Managing, opening, or closing your mobile wallet account': 632, 'Communication tactics': 632, 'Other features, terms, or problems': 632, 'Money was not available when promised': 632, 'Trouble during payment process': 632, 'Applying for a mortgage or refinancing an existing mortgage': 632, 'Problem when making payments': 632, 'Other transaction problem': 632, 'Getting a loan or lease': 632, 'Account opening, closing, or management': 632, 'Trouble using the card': 632, 'Deposits and withdrawals': 632, \"Credit reporting company's investigation\": 632, 'Loan modification,collection,foreclosure': 632, \"Can't repay my loan\": 632, 'Unexpected or other fees': 632, 'Problems caused by my funds being low': 632, 'Using a debit or ATM card': 632, 'Trouble using your card': 632, 'Unable to get credit report/credit score': 632, 'APR or interest rate': 632, 'Threatened to contact someone or share information improperly': 632, 'Opening an account': 632, 'Problems at the end of the loan or lease': 632, 'Getting a loan': 632, 'Credit decision / Underwriting': 632, 'Managing the loan or lease': 632, \"Received a loan I didn't apply for\": 632, 'Improper contact or sharing of info': 632, 'Problem with the payoff process at the end of the loan': 632, 'Other transaction issues': 632, 'Unauthorized transactions or other transaction problem': 632, 'Getting the loan': 632, 'Getting a line of credit': 632, 'Struggling to pay your loan': 632, 'Taking out the loan or lease': 632, 'Problem caused by your funds being low': 632, 'Billing disputes': 632, 'Credit monitoring or identity theft protection services': 632, \"Charged fees or interest I didn't expect\": 632, 'Credit monitoring or identity protection': 632, 'Problem getting a card or closing an account': 632, 'Advertising and marketing, including promotional offers': 632, 'Unable to get your credit report or credit score': 632, 'Improper use of my credit report': 632, 'Unauthorized transactions/trans. issues': 632, \"Problem with a company's investigation into an existing issue\": 632, 'Struggling to repay your loan': 632, 'Getting a credit card': 632, 'Other': 632, 'Making/receiving payments, sending money': 632, 'Problem with additional add-on products or services': 632, \"Can't contact lender or servicer\": 632, 'Rewards': 632, 'Problem with a purchase or transfer': 632, 'Struggling to pay your bill': 632, \"Can't contact lender\": 632, 'Billing statement': 632, 'Other service problem': 632, \"Received a loan you didn't apply for\": 632, 'Payoff process': 632, 'Problems when you are unable to pay': 632, 'Vehicle was repossessed or sold the vehicle': 632, 'Identity theft / Fraud / Embezzlement': 632, 'Other fee': 632, 'Transaction issue': 632, 'Closing/Cancelling account': 632, \"Loan payment wasn't credited to your account\": 632, 'Unsolicited issuance of credit card': 632, 'Credit card protection / Debt protection': 632, 'Identity theft protection or other monitoring services': 632, \"Can't stop withdrawals from your bank account\": 632, 'Balance transfer': 632, 'Wrong amount charged or received': 632, 'Excessive fees': 632, 'Late fee': 632, 'Adding money': 632, 'Charged bank acct wrong day or amt': 632, 'Problem with customer service': 632, 'Advertising': 632, 'Managing, opening, or closing account': 632, 'Problem adding money': 632})\n"
     ]
    }
   ],
   "source": [
    "# Handle Class Imbalance\n",
    "ros = RandomOverSampler(random_state=42)\n",
    "X_train_resampled, y_train_resampled = ros.fit_resample(X_train.values.reshape(-1, 1), Y_train)\n",
    "X_train_resampled = X_train_resampled.flatten()\n",
    "print(f\"Resampled train classes: {Counter(y_train_resampled)}\")"
   ]
  },
  {
   "cell_type": "code",
   "execution_count": null,
   "id": "759fb1c2",
   "metadata": {},
   "outputs": [],
   "source": []
  },
  {
   "cell_type": "code",
   "execution_count": null,
   "id": "e056b323",
   "metadata": {},
   "outputs": [],
   "source": []
  },
  {
   "cell_type": "code",
   "execution_count": null,
   "id": "f9afb294",
   "metadata": {},
   "outputs": [],
   "source": []
  }
 ],
 "metadata": {
  "kernelspec": {
   "display_name": "mccenv",
   "language": "python",
   "name": "python3"
  },
  "language_info": {
   "codemirror_mode": {
    "name": "ipython",
    "version": 3
   },
   "file_extension": ".py",
   "mimetype": "text/x-python",
   "name": "python",
   "nbconvert_exporter": "python",
   "pygments_lexer": "ipython3",
   "version": "3.13.3"
  }
 },
 "nbformat": 4,
 "nbformat_minor": 5
}
